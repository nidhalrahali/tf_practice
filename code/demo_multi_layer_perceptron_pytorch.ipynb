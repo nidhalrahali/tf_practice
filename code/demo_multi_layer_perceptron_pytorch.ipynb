{
 "cells": [
  {
   "cell_type": "markdown",
   "metadata": {},
   "source": [
    "# Multi Layer Perceptron"
   ]
  },
  {
   "cell_type": "code",
   "execution_count": 1,
   "metadata": {},
   "outputs": [
    {
     "name": "stdout",
     "output_type": "stream",
     "text": [
      "PyTorch version:[1.6.0].\n",
      "This notebook use [cuda:0].\n"
     ]
    }
   ],
   "source": [
    "import numpy as np\n",
    "import torch\n",
    "from torch import nn, optim\n",
    "from torch.nn import functional as F\n",
    "from torchvision import datasets, transforms\n",
    "import matplotlib.pyplot as plt\n",
    "%matplotlib inline  \n",
    "%config InlineBackend.figure_format='retina'\n",
    "print (\"PyTorch version:[%s].\"%(torch.__version__))\n",
    "\n",
    "# Device Configuration\n",
    "device = torch.device('cuda:0' if torch.cuda.is_available() else 'cpu')\n",
    "print (\"This notebook use [%s].\"%(device))"
   ]
  },
  {
   "cell_type": "markdown",
   "metadata": {},
   "source": [
    "### Helper functions"
   ]
  },
  {
   "cell_type": "code",
   "execution_count": 2,
   "metadata": {},
   "outputs": [
    {
     "name": "stdout",
     "output_type": "stream",
     "text": [
      "Ready.\n"
     ]
    }
   ],
   "source": [
    "def mlp(in_features=3, h_dims=[256,256], actv=nn.ReLU, out_actv=nn.ReLU):\n",
    "    \"\"\"\n",
    "    Multi-layer perceptron \n",
    "    \"\"\"\n",
    "    layers = []\n",
    "    in_features = in_features\n",
    "    for h_dim in h_dims[:-1]:\n",
    "        \n",
    "        ki = torch.randn(h_dim, in_features, dtype=torch.float, device=device, requires_grad=True)\n",
    "        \n",
    "        linear = nn.Linear(in_features, h_dim)\n",
    "        linear.weight = nn.Parameter(ki)\n",
    "        layers.append(linear)\n",
    "        \n",
    "        act = actv(inplace=True)\n",
    "        layers.append(act)\n",
    "\n",
    "        in_features = h_dim\n",
    "        \n",
    "    ki = torch.randn(h_dims[-1], in_features, dtype=torch.float, device=device, requires_grad=True)\n",
    "    linear = nn.Linear(in_features, h_dims[-1])\n",
    "    linear.weight = nn.Parameter(ki)\n",
    "    layers.append(linear)\n",
    "    \n",
    "    if out_actv:\n",
    "        act = out_actv(inplace=True)\n",
    "        layers.append(act)\n",
    "    \n",
    "    return nn.Sequential(*layers)\n",
    "\n",
    "print (\"Ready.\")"
   ]
  },
  {
   "cell_type": "markdown",
   "metadata": {},
   "source": [
    "### Dataset"
   ]
  },
  {
   "cell_type": "code",
   "execution_count": 3,
   "metadata": {},
   "outputs": [],
   "source": [
    "train_dataset = datasets.MNIST('../data/mnist_data/',\n",
    "                             download=True,\n",
    "                             train=True) \n",
    "x_train = train_dataset.data.unsqueeze(1)/255.\n",
    "x_train = torch.flatten(x_train, 1)\n",
    "y_train = train_dataset.targets\n",
    "n_train = train_dataset.data.shape[0]\n",
    "\n",
    "test_dataset = datasets.MNIST(\"../data/mnist_data/\", \n",
    "                             download=True,\n",
    "                             train=False)\n",
    "\n",
    "x_test = test_dataset.data.unsqueeze(1)/255.\n",
    "x_test = torch.flatten(x_test, 1)\n",
    "y_test = test_dataset.targets"
   ]
  },
  {
   "cell_type": "markdown",
   "metadata": {},
   "source": [
    "### Model"
   ]
  },
  {
   "cell_type": "code",
   "execution_count": 4,
   "metadata": {},
   "outputs": [
    {
     "name": "stdout",
     "output_type": "stream",
     "text": [
      "Ready.\n"
     ]
    }
   ],
   "source": [
    "class MultiLayerPerceptronClsClass(object):\n",
    "    \"\"\"\n",
    "    MLP for classification\n",
    "    \"\"\"\n",
    "    def __init__(self, name='mlp', x_dim=784, y_dim=10, h_dims=[128,128], actv=nn.ReLU):\n",
    "        \"\"\"\n",
    "        Initialize\n",
    "        \"\"\"\n",
    "        self.name = name\n",
    "        self.x_dim = x_dim\n",
    "        self.y_dim = y_dim\n",
    "        self.h_dims = h_dims\n",
    "        self.actv = actv\n",
    "        self.build_model()\n",
    "        self.main_vars = sum([parameter.numel() for parameter in self.net.parameters()])\n",
    "        print(\"[%s] instantiated.\"%(self.name))\n",
    "        \n",
    "    def build_model(self):\n",
    "        \"\"\"\n",
    "        Build model\n",
    "        \"\"\"\n",
    "        self.net = mlp(in_features=self.x_dim, h_dims=self.h_dims+[self.y_dim],\n",
    "                         actv=self.actv, out_actv=None)\n",
    "        self.loss = nn.CrossEntropyLoss()\n",
    "        self.optim = optim.Adam(self.net.parameters(), lr=0.001)\n",
    "    \n",
    "    def update(self, x_batch, y_batch):\n",
    "        \"\"\"\n",
    "        Update model \n",
    "        \"\"\"\n",
    "        y_pred = self.net(x_batch)\n",
    "        cost_val = self.loss(y_pred, y_batch)\n",
    "        self.optim.zero_grad()\n",
    "        cost_val.backward()\n",
    "        self.optim.step()\n",
    "        return cost_val\n",
    "    \n",
    "    def test(self, test_x, test_y, batch_size):\n",
    "        \"\"\"\n",
    "        Test the model\n",
    "        \"\"\"\n",
    "        n_test = len(x_test)\n",
    "        p_idx = np.random.permutation(n_test)\n",
    "        max_iter = np.ceil(n_test/batch_size).astype(np.int) # number of iterations\n",
    "        with torch.no_grad():\n",
    "            test_loss = 0\n",
    "            total = 0\n",
    "            correct = 0\n",
    "            for it in range(max_iter):\n",
    "                b_idx = p_idx[batch_size*(it):batch_size*(it+1)]\n",
    "                x_batch, y_batch = test_x[b_idx].to(device), test_y[b_idx].to(device)\n",
    "                y_pred = self.net(x_batch)\n",
    "                _, predicted = torch.max(y_pred.data, 1)\n",
    "                total += y_batch.size(0)\n",
    "                correct += (predicted == y_batch).sum().item()\n",
    "            val_acc = (100 * correct / total)\n",
    "        return val_acc\n",
    "print (\"Ready.\")"
   ]
  },
  {
   "cell_type": "markdown",
   "metadata": {},
   "source": [
    "### Instantiate Model"
   ]
  },
  {
   "cell_type": "code",
   "execution_count": 5,
   "metadata": {},
   "outputs": [
    {
     "name": "stdout",
     "output_type": "stream",
     "text": [
      "[mlp] instantiated.\n"
     ]
    }
   ],
   "source": [
    "M = MultiLayerPerceptronClsClass()\n",
    "M.net = M.net.to(device)"
   ]
  },
  {
   "cell_type": "code",
   "execution_count": 6,
   "metadata": {},
   "outputs": [
    {
     "name": "stdout",
     "output_type": "stream",
     "text": [
      "0 0.weight torch.Size([128, 784])\n",
      "1 0.bias torch.Size([128])\n",
      "2 2.weight torch.Size([128, 128])\n",
      "3 2.bias torch.Size([128])\n",
      "4 4.weight torch.Size([10, 128])\n",
      "5 4.bias torch.Size([10])\n"
     ]
    }
   ],
   "source": [
    "for v_idx,(name, var) in enumerate(M.net.named_parameters()):\n",
    "    print (v_idx, name, var.shape)"
   ]
  },
  {
   "cell_type": "markdown",
   "metadata": {},
   "source": [
    "### Loop"
   ]
  },
  {
   "cell_type": "code",
   "execution_count": 7,
   "metadata": {},
   "outputs": [
    {
     "name": "stdout",
     "output_type": "stream",
     "text": [
      "epoch:[1/20] cost:[128.904] test_accuracy:[80.050]\n",
      "epoch:[2/20] cost:[27.387] test_accuracy:[86.310]\n",
      "epoch:[3/20] cost:[17.545] test_accuracy:[88.410]\n",
      "epoch:[4/20] cost:[12.804] test_accuracy:[89.730]\n",
      "epoch:[5/20] cost:[9.845] test_accuracy:[90.310]\n",
      "epoch:[6/20] cost:[7.890] test_accuracy:[91.090]\n",
      "epoch:[7/20] cost:[6.340] test_accuracy:[91.580]\n",
      "epoch:[8/20] cost:[5.253] test_accuracy:[91.930]\n",
      "epoch:[9/20] cost:[4.344] test_accuracy:[92.230]\n",
      "epoch:[10/20] cost:[3.650] test_accuracy:[92.610]\n",
      "epoch:[11/20] cost:[3.007] test_accuracy:[92.490]\n",
      "epoch:[12/20] cost:[2.536] test_accuracy:[93.150]\n",
      "epoch:[13/20] cost:[2.126] test_accuracy:[93.260]\n",
      "epoch:[14/20] cost:[1.802] test_accuracy:[93.040]\n",
      "epoch:[15/20] cost:[1.518] test_accuracy:[93.450]\n",
      "epoch:[16/20] cost:[1.299] test_accuracy:[93.640]\n",
      "epoch:[17/20] cost:[1.094] test_accuracy:[93.500]\n",
      "epoch:[18/20] cost:[0.929] test_accuracy:[93.610]\n",
      "epoch:[19/20] cost:[0.768] test_accuracy:[93.710]\n",
      "epoch:[20/20] cost:[0.662] test_accuracy:[93.760]\n",
      "Done.\n"
     ]
    }
   ],
   "source": [
    "max_epoch,batch_size,print_every = 20,128,1\n",
    "\n",
    "max_iter = np.ceil(n_train/batch_size).astype(np.int) # number of iterations\n",
    "for epoch in range(max_epoch):\n",
    "    p_idx = np.random.permutation(n_train)\n",
    "    cost_val_sum,cnt = 0,0\n",
    "    for it in range(max_iter):\n",
    "        b_idx = p_idx[batch_size*(it):batch_size*(it+1)]\n",
    "        x_batch,y_batch = x_train[b_idx].to(device), y_train[b_idx].to(device)\n",
    "        cost_val = M.update(x_batch=x_batch,y_batch=y_batch)\n",
    "        cost_val_sum += cost_val*len(b_idx)\n",
    "        cnt += len(b_idx)\n",
    "    cost_val_avg = cost_val_sum / cnt\n",
    "    if ((epoch%print_every)==0) or (epoch==(max_epoch-1)):\n",
    "        accr_val = M.test(x_test, y_test, batch_size)\n",
    "        print (\"epoch:[%d/%d] cost:[%.3f] test_accuracy:[%.3f]\"%\n",
    "               (epoch+1,max_epoch,cost_val_avg,accr_val))\n",
    "print (\"Done.\")"
   ]
  }
 ],
 "metadata": {
  "kernelspec": {
   "display_name": "Python 3",
   "language": "python",
   "name": "python3"
  },
  "language_info": {
   "codemirror_mode": {
    "name": "ipython",
    "version": 3
   },
   "file_extension": ".py",
   "mimetype": "text/x-python",
   "name": "python",
   "nbconvert_exporter": "python",
   "pygments_lexer": "ipython3",
   "version": "3.7.9"
  }
 },
 "nbformat": 4,
 "nbformat_minor": 4
}
